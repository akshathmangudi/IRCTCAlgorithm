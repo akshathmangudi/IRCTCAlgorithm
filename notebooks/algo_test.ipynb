{
 "cells": [
  {
   "cell_type": "code",
   "execution_count": null,
   "metadata": {},
   "outputs": [],
   "source": [
    "ss=['A','B','C','D','E','F','G','H','I','J']\n",
    "x=len(ss)\n",
    "mm= [[100]*x for _ in range(x)]\n",
    "print(mm)\n",
    "y=0\n",
    "while (y == 0):\n",
    "    s=input(\"Source : \")\n",
    "    d=input(\"Destination : \")\n",
    "    p=int(input(\"Enter number of tickets : \"))\n",
    "    m=ss.index(s)\n",
    "    n=ss.index(d)\n",
    "    print(mm[m][n])\n",
    "    for i in range(x):\n",
    "        for j in range(x):\n",
    "            if(i==j):\n",
    "                mm[i][j]='X'\n",
    "    if(m<n):\n",
    "        for i in range(m):\n",
    "          for j in range (m+1,x):\n",
    "                mm[i][j]=mm[i][j]-p\n",
    "        for i in range(m,n):\n",
    "            for j in range(i+1,x):\n",
    "                mm[i][j]=mm[i][j]-p\n",
    "\n",
    "    elif(m>n):\n",
    "        for i in range(n+1,m):\n",
    "            for j in range(i):\n",
    "                mm[i][j]=mm[i][j]-p\n",
    "        for i in range(m,x):\n",
    "            for j in range(m):\n",
    "                mm[i][j]=mm[i][j]-p\n",
    "\n",
    "    else:\n",
    "        print(\"Not possible!!\")\n",
    "    for i in mm:\n",
    "        print(i)\n",
    "    print(\"Enter -1 to exit and 0 to continue \")\n",
    "    y=int(input(\"Enter\"))\n"
   ]
  }
 ],
 "metadata": {
  "kernelspec": {
   "display_name": "irctc-py",
   "language": "python",
   "name": "python3"
  },
  "language_info": {
   "name": "python",
   "version": "3.12.2"
  }
 },
 "nbformat": 4,
 "nbformat_minor": 2
}
