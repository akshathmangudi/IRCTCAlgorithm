{
 "cells": [
  {
   "cell_type": "code",
   "execution_count": 34,
   "id": "6dfdb592",
   "metadata": {},
   "outputs": [],
   "source": [
    "import numpy \n",
    "import pandas"
   ]
  },
  {
   "cell_type": "code",
   "execution_count": 35,
   "id": "abd205b9",
   "metadata": {},
   "outputs": [],
   "source": [
    "def create_matrix(rows: int, cols: int) -> numpy.ndarray: \n",
    "    try: \n",
    "        if rows <= 0 or cols <= 0: \n",
    "            raise ValueError(\"Rows and columns must be greater than zero.\")\n",
    "        array = numpy.zeros((rows, cols))\n",
    "        return array\n",
    "    except ValueError as e: \n",
    "        print(e)\n",
    "        return None"
   ]
  },
  {
   "cell_type": "code",
   "execution_count": 36,
   "id": "2f71864f",
   "metadata": {},
   "outputs": [
    {
     "name": "stdout",
     "output_type": "stream",
     "text": [
      "Rows and columns must be greater than zero.\n",
      "Rows and columns must be greater than zero.\n"
     ]
    },
    {
     "data": {
      "text/plain": [
       "array([[0., 0., 0., 0., 0., 0., 0., 0., 0., 0.],\n",
       "       [0., 0., 0., 0., 0., 0., 0., 0., 0., 0.],\n",
       "       [0., 0., 0., 0., 0., 0., 0., 0., 0., 0.],\n",
       "       [0., 0., 0., 0., 0., 0., 0., 0., 0., 0.],\n",
       "       [0., 0., 0., 0., 0., 0., 0., 0., 0., 0.],\n",
       "       [0., 0., 0., 0., 0., 0., 0., 0., 0., 0.],\n",
       "       [0., 0., 0., 0., 0., 0., 0., 0., 0., 0.],\n",
       "       [0., 0., 0., 0., 0., 0., 0., 0., 0., 0.],\n",
       "       [0., 0., 0., 0., 0., 0., 0., 0., 0., 0.],\n",
       "       [0., 0., 0., 0., 0., 0., 0., 0., 0., 0.]])"
      ]
     },
     "execution_count": 36,
     "metadata": {},
     "output_type": "execute_result"
    }
   ],
   "source": [
    "# Our error handling works now. \n",
    "create_matrix(0, 4)\n",
    "create_matrix(4, 0)\n",
    "\n",
    "# This will be our matrix to use now.\n",
    "matrix = create_matrix(10, 10)\n",
    "matrix"
   ]
  },
  {
   "cell_type": "code",
   "execution_count": 39,
   "id": "bebb2789",
   "metadata": {},
   "outputs": [],
   "source": [
    "def create_utmat(mat: numpy.ndarray) -> numpy.ndarray: \n",
    "    rows, cols = mat.shape\n",
    "    \n",
    "    for i in range(rows): \n",
    "        for j in range(cols): \n",
    "            if i < j: \n",
    "                matrix[i, j] = 100\n",
    "    return matrix"
   ]
  },
  {
   "cell_type": "code",
   "execution_count": 40,
   "id": "c5b23b72",
   "metadata": {},
   "outputs": [
    {
     "data": {
      "text/plain": [
       "array([[  0., 100., 100., 100., 100., 100., 100., 100., 100., 100.],\n",
       "       [  0.,   0., 100., 100., 100., 100., 100., 100., 100., 100.],\n",
       "       [  0.,   0.,   0., 100., 100., 100., 100., 100., 100., 100.],\n",
       "       [  0.,   0.,   0.,   0., 100., 100., 100., 100., 100., 100.],\n",
       "       [  0.,   0.,   0.,   0.,   0., 100., 100., 100., 100., 100.],\n",
       "       [  0.,   0.,   0.,   0.,   0.,   0., 100., 100., 100., 100.],\n",
       "       [  0.,   0.,   0.,   0.,   0.,   0.,   0., 100., 100., 100.],\n",
       "       [  0.,   0.,   0.,   0.,   0.,   0.,   0.,   0., 100., 100.],\n",
       "       [  0.,   0.,   0.,   0.,   0.,   0.,   0.,   0.,   0., 100.],\n",
       "       [  0.,   0.,   0.,   0.,   0.,   0.,   0.,   0.,   0.,   0.]])"
      ]
     },
     "execution_count": 40,
     "metadata": {},
     "output_type": "execute_result"
    }
   ],
   "source": [
    "create_utmat(matrix)"
   ]
  },
  {
   "cell_type": "code",
   "execution_count": 44,
   "id": "55d5beb9",
   "metadata": {},
   "outputs": [],
   "source": [
    "def convert_df(points: list, mat: numpy.ndarray) -> pandas.DataFrame: \n",
    "        df = pandas.DataFrame(mat)\n",
    "        row_names = [f'{points[i]}' for i in range(len(points))]\n",
    "        col_names = [f'{points[i]}' for i in range(len(points))]\n",
    "        \n",
    "        df.index = row_names\n",
    "        df.columns = col_names\n",
    "        \n",
    "        return df"
   ]
  },
  {
   "cell_type": "code",
   "execution_count": 47,
   "id": "d936d26f",
   "metadata": {},
   "outputs": [],
   "source": [
    "points = ['GHY', 'BZA', 'MAS', 'HYB', 'ADI', 'NZM', 'CHTS', 'CAPE', 'MMCT', 'KOTA']\n",
    "d_frame = convert_df(points, matrix) "
   ]
  },
  {
   "cell_type": "code",
   "execution_count": 46,
   "id": "5871d7ec",
   "metadata": {},
   "outputs": [],
   "source": [
    "# Unnecessary\n",
    "def write_to_CSV(df: pandas.DataFrame): \n",
    "    df.to_csv('data.csv')"
   ]
  },
  {
   "cell_type": "code",
   "execution_count": 48,
   "id": "ed2d08fd",
   "metadata": {},
   "outputs": [],
   "source": [
    "write_to_CSV(d_frame)"
   ]
  }
 ],
 "metadata": {
  "kernelspec": {
   "display_name": "Python 3 (ipykernel)",
   "language": "python",
   "name": "python3"
  },
  "language_info": {
   "codemirror_mode": {
    "name": "ipython",
    "version": 3
   },
   "file_extension": ".py",
   "mimetype": "text/x-python",
   "name": "python",
   "nbconvert_exporter": "python",
   "pygments_lexer": "ipython3",
   "version": "3.11.4"
  }
 },
 "nbformat": 4,
 "nbformat_minor": 5
}
